{
 "cells": [
  {
   "cell_type": "code",
   "execution_count": 1,
   "metadata": {
    "id": "1c5ZpLHeAJeM"
   },
   "outputs": [],
   "source": [
    "import numpy as np\n",
    "import pandas as pd\n",
    "import matplotlib.pyplot as plt\n",
    "%matplotlib inline  \n",
    "import seaborn as sns \n",
    "import os\n",
    "import cv2  "
   ]
  },
  {
   "cell_type": "code",
   "execution_count": 2,
   "metadata": {
    "colab": {
     "base_uri": "https://localhost:8080/"
    },
    "id": "SO6Yi_He3T5Y",
    "outputId": "82e1c39e-4c57-45fd-c6f1-820b425d1505"
   },
   "outputs": [],
   "source": [
    "#from google.colab import drive\n",
    "#drive.mount('/content/drive', force_remount=True)"
   ]
  },
  {
   "cell_type": "code",
   "execution_count": 3,
   "metadata": {
    "id": "DKKByDItaPDd"
   },
   "outputs": [],
   "source": [
    "import tensorflow as tf\n",
    "from tensorflow.keras.utils import to_categorical\n",
    "from tensorflow.keras.models import Sequential\n",
    "from tensorflow.keras.layers import Dense, Dropout, Input\n",
    "from tensorflow.keras.layers import Activation, Flatten\n",
    "from tensorflow.keras.layers import Conv2D, MaxPooling2D, ZeroPadding2D\n",
    "from tensorflow.keras.optimizers import SGD\n",
    "from tensorflow.keras.layers import BatchNormalization"
   ]
  },
  {
   "cell_type": "code",
   "execution_count": 4,
   "metadata": {
    "id": "lj-9oEYP3bOG"
   },
   "outputs": [],
   "source": [
    "data=pd.read_csv('train.csv')"
   ]
  },
  {
   "cell_type": "code",
   "execution_count": null,
   "metadata": {
    "id": "C629P3ziAQPr"
   },
   "outputs": [],
   "source": []
  },
  {
   "cell_type": "code",
   "execution_count": 5,
   "metadata": {
    "id": "qxKcwMHZARr-"
   },
   "outputs": [],
   "source": [
    "#copied_path='/content/drive/My Drive/9z_ML_Bootcamp/Kannada_MINST/train.csv'\n",
    "#data=pd.read_csv(copied_path)\n"
   ]
  },
  {
   "cell_type": "code",
   "execution_count": 6,
   "metadata": {
    "id": "5GGV0i0bAZKo"
   },
   "outputs": [],
   "source": [
    "X_data= data.values[:6000, 1:]/255\n",
    "y_label=data.values[:6000, 0]\n",
    "n_classes=10  \n",
    "y_label = to_categorical(y_label, n_classes)\n",
    "\n",
    "from sklearn.model_selection import train_test_split\n",
    "X_train_pre_process, X_test_pre_process, y_train_pre_process, y_test_pre_process = train_test_split(X_data, y_label ,test_size=0.2, random_state=42)\n"
   ]
  },
  {
   "cell_type": "code",
   "execution_count": 7,
   "metadata": {
    "colab": {
     "base_uri": "https://localhost:8080/"
    },
    "id": "85hhBipiAge2",
    "outputId": "3563f105-df87-4295-e186-5d1c5eccd6e0"
   },
   "outputs": [
    {
     "name": "stdout",
     "output_type": "stream",
     "text": [
      "(1200, 784)\n",
      "(4800, 784)\n",
      "(4800, 10)\n",
      "(1200, 10)\n"
     ]
    }
   ],
   "source": [
    "print(X_test_pre_process.shape)\n",
    "print(X_train_pre_process.shape)\n",
    "print(y_train_pre_process.shape)\n",
    "print(y_test_pre_process.shape)"
   ]
  },
  {
   "cell_type": "code",
   "execution_count": 8,
   "metadata": {
    "colab": {
     "base_uri": "https://localhost:8080/",
     "height": 298
    },
    "id": "_dz2rWVhAiz7",
    "outputId": "d2783a78-7aba-4096-b073-199301a6358a"
   },
   "outputs": [
    {
     "name": "stdout",
     "output_type": "stream",
     "text": [
      "(3, 784)\n"
     ]
    },
    {
     "data": {
      "text/plain": [
       "<matplotlib.image.AxesImage at 0x209cc13ebe0>"
      ]
     },
     "execution_count": 8,
     "metadata": {},
     "output_type": "execute_result"
    },
    {
     "data": {
      "image/png": "[encoded data removed]",
      "text/plain": [
       "<Figure size 432x288 with 1 Axes>"
      ]
     },
     "metadata": {
      "needs_background": "light"
     },
     "output_type": "display_data"
    }
   ],
   "source": [
    "X_train_pre_process1=X_train_pre_process[1:4]\n",
    "print(X_train_pre_process1.shape)\n",
    "plt.imshow(X_train_pre_process1[2].reshape(28,28))"
   ]
  },
  {
   "cell_type": "code",
   "execution_count": 9,
   "metadata": {
    "id": "y6X1zn-LAi3D"
   },
   "outputs": [],
   "source": [
    "def gray_rgb(X_data):\n",
    "    X=[]\n",
    "\n",
    "    for i in range(X_data.shape[0]):\n",
    "        X_temp=X_data[i,:].reshape(28,28,1)\n",
    "        X.append(np.concatenate((X_temp,X_temp,X_temp),axis=-1)) # Note cannot do reshape 28x28x1 then conver RGB. The channel 1 has some offset. \n",
    "\n",
    "        #X.append(np.concatenate((X_temp_resize,X_temp_resize,X_temp_resize),axis=-1))\n",
    "        X_temp_resize= tf.image.resize(X, [94,94])\n",
    "    return X_temp_resize"
   ]
  },
  {
   "cell_type": "code",
   "execution_count": 10,
   "metadata": {
    "colab": {
     "base_uri": "https://localhost:8080/",
     "height": 285
    },
    "id": "5ls49DaWFU45",
    "outputId": "363f322a-4428-460c-f678-64d04a1365a3"
   },
   "outputs": [
    {
     "data": {
      "text/plain": [
       "(3, 94, 94, 3)"
      ]
     },
     "execution_count": 10,
     "metadata": {},
     "output_type": "execute_result"
    },
    {
     "data": {
      "image/png": "[encoded data removed]",
      "text/plain": [
       "<Figure size 432x288 with 1 Axes>"
      ]
     },
     "metadata": {
      "needs_background": "light"
     },
     "output_type": "display_data"
    }
   ],
   "source": [
    "X_train=np.asarray(gray_rgb(X_train_pre_process1))\n",
    "tt=plt.imshow(X_train[2])\n",
    "X_train.shape"
   ]
  },
  {
   "cell_type": "code",
   "execution_count": 11,
   "metadata": {
    "id": "zw3ssiqxMMyM"
   },
   "outputs": [],
   "source": [
    "X_train_rgb=np.asarray(gray_rgb(X_train_pre_process))"
   ]
  },
  {
   "cell_type": "code",
   "execution_count": 12,
   "metadata": {
    "id": "VgyQAhCvAi6K"
   },
   "outputs": [],
   "source": [
    "X_test_rgb=np.asarray(gray_rgb(X_test_pre_process))\n",
    "\n",
    "y_train_rgb=y_train_pre_process\n",
    "y_test_rgb=y_test_pre_process"
   ]
  },
  {
   "cell_type": "code",
   "execution_count": 13,
   "metadata": {
    "colab": {
     "base_uri": "https://localhost:8080/",
     "height": 386
    },
    "id": "KmDYeNZOAi8f",
    "outputId": "ca5beb0d-9b89-4a7a-a28b-71f20ec803c9"
   },
   "outputs": [
    {
     "name": "stdout",
     "output_type": "stream",
     "text": [
      "(4800, 94, 94, 3)\n",
      "(4800, 10)\n",
      "(1200, 94, 94, 3)\n",
      "(1200, 10)\n",
      "(4800, 784)\n",
      "(4800, 10)\n",
      "(4800, 28, 28, 1)\n"
     ]
    },
    {
     "data": {
      "image/png": "[encoded data removed]",
      "text/plain": [
       "<Figure size 432x288 with 1 Axes>"
      ]
     },
     "metadata": {
      "needs_background": "light"
     },
     "output_type": "display_data"
    }
   ],
   "source": [
    "tt=plt.imshow(X_train_rgb[34])\n",
    "print(X_train_rgb.shape)\n",
    "print(y_train_rgb.shape)\n",
    "print(X_test_rgb.shape)\n",
    "print(y_test_rgb.shape)\n",
    "print(X_train_pre_process.shape)\n",
    "\n",
    "print(y_train_pre_process.shape)\n",
    "\n",
    "\n",
    "X_train1 = X_train_pre_process.reshape((X_train_pre_process.shape[0], 28, 28, 1))\n",
    "print(X_train1.shape)"
   ]
  },
  {
   "cell_type": "code",
   "execution_count": 14,
   "metadata": {
    "id": "fY0WJdYMHTEw"
   },
   "outputs": [],
   "source": [
    "def data_augment(X_train,y_train, batch_size):\n",
    "    from tensorflow.keras.preprocessing.image import ImageDataGenerator # for data augmentation\n",
    "\n",
    "    datagen = ImageDataGenerator(zoom_range=0.1,\n",
    "                                 width_shift_range=0.3,\n",
    "                                 height_shift_range=0.3,\n",
    "                                 rotation_range=5)\n",
    "    datagen.fit(X_train)\n",
    "    train_generator=datagen.flow(X_train, y_train, batch_size=16, shuffle=True)\n",
    "    i=0\n",
    "    for img_batch in train_generator:\n",
    "        x,y=img_batch\n",
    "        X_train=np.concatenate((X_train,x), axis=0)\n",
    "        y_train=np.concatenate((y_train,y), axis=0)\n",
    "        i=i+1    \n",
    "        if i >= batch_size:\n",
    "            break\n",
    "    return X_train, y_train"
   ]
  },
  {
   "cell_type": "code",
   "execution_count": 15,
   "metadata": {
    "id": "Avpet3ZjHTUO"
   },
   "outputs": [],
   "source": [
    "X_train, y_train=data_augment(X_train_rgb, y_train_rgb,20)\n",
    "X_test=X_test_rgb\n",
    "y_test=y_test_rgb"
   ]
  },
  {
   "cell_type": "code",
   "execution_count": 16,
   "metadata": {
    "colab": {
     "base_uri": "https://localhost:8080/"
    },
    "id": "LKUf5ArOAi-z",
    "outputId": "869c02d7-10ce-4e13-f8c7-b8f586216f61"
   },
   "outputs": [
    {
     "name": "stdout",
     "output_type": "stream",
     "text": [
      "(4800, 784)\n",
      "(5120, 94, 94, 3)\n",
      "(1200, 94, 94, 3)\n",
      "(5120, 10)\n",
      "(1200, 10)\n"
     ]
    }
   ],
   "source": [
    "print(X_train_pre_process.shape)\n",
    "print(X_train.shape)\n",
    "print(X_test.shape)\n",
    "print(y_train.shape)\n",
    "print(y_test.shape)\n"
   ]
  },
  {
   "cell_type": "code",
   "execution_count": 17,
   "metadata": {
    "colab": {
     "base_uri": "https://localhost:8080/"
    },
    "id": "paAdMI3qAjBY",
    "outputId": "c737820f-2b87-4b9d-ac3a-6e7c52584b33"
   },
   "outputs": [
    {
     "name": "stderr",
     "output_type": "stream",
     "text": [
      "D:\\Softwares\\anaconda1\\envs\\jiuzhang\\lib\\site-packages\\keras_applications\\mobilenet_v2.py:294: UserWarning: `input_shape` is undefined or non-square, or `rows` is not in [96, 128, 160, 192, 224]. Weights for input shape (224, 224) will be loaded as the default.\n",
      "  warnings.warn('`input_shape` is undefined or non-square, '\n"
     ]
    }
   ],
   "source": [
    "base_model=tf.keras.applications.MobileNetV2(\n",
    "    input_shape=(94,94,3), alpha=1.0, include_top=False, weights='imagenet',\n",
    "    input_tensor=None, pooling=None)\n",
    "base_model.trainable=False # parameter term"
   ]
  },
  {
   "cell_type": "code",
   "execution_count": 18,
   "metadata": {
    "id": "VNygvn4pAjDy"
   },
   "outputs": [],
   "source": [
    "model = tf.keras.Sequential([\n",
    "  base_model,\n",
    "  tf.keras.layers.Dropout(0.2),\n",
    "  tf.keras.layers.GlobalAveragePooling2D(),\n",
    "  tf.keras.layers.Dense(10, activation='softmax')\n",
    "])"
   ]
  },
  {
   "cell_type": "code",
   "execution_count": 19,
   "metadata": {
    "id": "wWxFandxAjGm"
   },
   "outputs": [],
   "source": [
    "model.compile(loss='categorical_crossentropy', optimizer='adam', metrics=['accuracy'])"
   ]
  },
  {
   "cell_type": "code",
   "execution_count": 20,
   "metadata": {
    "colab": {
     "base_uri": "https://localhost:8080/"
    },
    "id": "4vFwpfDEAjJ_",
    "outputId": "69707656-a200-41b6-c38e-57d058bc3137"
   },
   "outputs": [
    {
     "name": "stdout",
     "output_type": "stream",
     "text": [
      "Train on 5120 samples, validate on 1200 samples\n",
      "Epoch 1/30\n",
      "5120/5120 [==============================] - 17s 3ms/sample - loss: 1.1606 - accuracy: 0.6211 - val_loss: 4.5167 - val_accuracy: 0.1275\n",
      "Epoch 2/30\n",
      "5120/5120 [==============================] - 8s 2ms/sample - loss: 0.5574 - accuracy: 0.8273 - val_loss: 7.3387 - val_accuracy: 0.0975\n",
      "Epoch 3/30\n",
      "5120/5120 [==============================] - 8s 2ms/sample - loss: 0.4387 - accuracy: 0.8600 - val_loss: 6.9422 - val_accuracy: 0.0983\n",
      "Epoch 4/30\n",
      "5120/5120 [==============================] - 8s 2ms/sample - loss: 0.3886 - accuracy: 0.8783 - val_loss: 7.2833 - val_accuracy: 0.0975\n",
      "Epoch 5/30\n",
      "5120/5120 [==============================] - 8s 2ms/sample - loss: 0.3412 - accuracy: 0.8898 - val_loss: 8.1346 - val_accuracy: 0.0983\n",
      "Epoch 6/30\n",
      "5120/5120 [==============================] - 8s 2ms/sample - loss: 0.3170 - accuracy: 0.8982 - val_loss: 5.5614 - val_accuracy: 0.1225\n",
      "Epoch 7/30\n",
      "5120/5120 [==============================] - 8s 2ms/sample - loss: 0.2920 - accuracy: 0.9082 - val_loss: 8.0927 - val_accuracy: 0.1008\n",
      "Epoch 8/30\n",
      "5120/5120 [==============================] - 8s 2ms/sample - loss: 0.2847 - accuracy: 0.9111 - val_loss: 7.5815 - val_accuracy: 0.0975\n",
      "Epoch 9/30\n",
      "5120/5120 [==============================] - 8s 2ms/sample - loss: 0.2647 - accuracy: 0.9164 - val_loss: 6.6871 - val_accuracy: 0.1258\n",
      "Epoch 10/30\n",
      "5120/5120 [==============================] - 9s 2ms/sample - loss: 0.2541 - accuracy: 0.9209 - val_loss: 7.9867 - val_accuracy: 0.0983\n",
      "Epoch 11/30\n",
      "5120/5120 [==============================] - 8s 2ms/sample - loss: 0.2650 - accuracy: 0.9107 - val_loss: 7.8173 - val_accuracy: 0.1008\n",
      "Epoch 12/30\n",
      "5120/5120 [==============================] - 8s 2ms/sample - loss: 0.2477 - accuracy: 0.9176 - val_loss: 9.7963 - val_accuracy: 0.1058\n",
      "Epoch 13/30\n",
      "5120/5120 [==============================] - 8s 2ms/sample - loss: 0.2408 - accuracy: 0.9184 - val_loss: 8.8793 - val_accuracy: 0.1192\n",
      "Epoch 14/30\n",
      "5120/5120 [==============================] - 8s 2ms/sample - loss: 0.2286 - accuracy: 0.9277 - val_loss: 8.1637 - val_accuracy: 0.0992\n",
      "Epoch 15/30\n",
      "5120/5120 [==============================] - 9s 2ms/sample - loss: 0.2216 - accuracy: 0.9258 - val_loss: 6.7027 - val_accuracy: 0.1117\n",
      "Epoch 16/30\n",
      "5120/5120 [==============================] - 8s 2ms/sample - loss: 0.2295 - accuracy: 0.9256 - val_loss: 10.0312 - val_accuracy: 0.0917\n",
      "Epoch 17/30\n",
      "5120/5120 [==============================] - 8s 2ms/sample - loss: 0.2168 - accuracy: 0.9270 - val_loss: 7.5474 - val_accuracy: 0.0983\n",
      "Epoch 18/30\n",
      "5120/5120 [==============================] - 8s 2ms/sample - loss: 0.2295 - accuracy: 0.9270 - val_loss: 8.2051 - val_accuracy: 0.1083\n",
      "Epoch 19/30\n",
      "5120/5120 [==============================] - 8s 2ms/sample - loss: 0.2066 - accuracy: 0.9287 - val_loss: 9.2767 - val_accuracy: 0.1050\n",
      "Epoch 20/30\n",
      "5120/5120 [==============================] - 8s 2ms/sample - loss: 0.2035 - accuracy: 0.9328 - val_loss: 11.0730 - val_accuracy: 0.0958\n",
      "Epoch 21/30\n",
      "5120/5120 [==============================] - 8s 2ms/sample - loss: 0.2083 - accuracy: 0.9289 - val_loss: 10.4940 - val_accuracy: 0.0983\n",
      "Epoch 22/30\n",
      "5120/5120 [==============================] - 8s 2ms/sample - loss: 0.1954 - accuracy: 0.9359 - val_loss: 10.0604 - val_accuracy: 0.0967\n",
      "Epoch 23/30\n",
      "5120/5120 [==============================] - 8s 2ms/sample - loss: 0.1915 - accuracy: 0.9344 - val_loss: 10.4034 - val_accuracy: 0.0958\n",
      "Epoch 24/30\n",
      "5120/5120 [==============================] - 9s 2ms/sample - loss: 0.1895 - accuracy: 0.9381 - val_loss: 9.9008 - val_accuracy: 0.1042\n",
      "Epoch 25/30\n",
      "5120/5120 [==============================] - 8s 2ms/sample - loss: 0.2011 - accuracy: 0.9332 - val_loss: 10.5844 - val_accuracy: 0.1067\n",
      "Epoch 26/30\n",
      "5120/5120 [==============================] - 8s 2ms/sample - loss: 0.1958 - accuracy: 0.9367 - val_loss: 11.6740 - val_accuracy: 0.1008\n",
      "Epoch 27/30\n",
      "5120/5120 [==============================] - 8s 2ms/sample - loss: 0.1893 - accuracy: 0.9377 - val_loss: 11.8123 - val_accuracy: 0.0983\n",
      "Epoch 28/30\n",
      "5120/5120 [==============================] - 8s 2ms/sample - loss: 0.2143 - accuracy: 0.9285 - val_loss: 11.4375 - val_accuracy: 0.0983\n",
      "Epoch 29/30\n",
      "5120/5120 [==============================] - 8s 2ms/sample - loss: 0.1793 - accuracy: 0.9420 - val_loss: 10.3462 - val_accuracy: 0.1167\n",
      "Epoch 30/30\n",
      "5120/5120 [==============================] - 8s 2ms/sample - loss: 0.1956 - accuracy: 0.9318 - val_loss: 11.3750 - val_accuracy: 0.1050\n"
     ]
    }
   ],
   "source": [
    "c=model.fit(x=X_train, y=y_train,epochs=30,batch_size=32, validation_data=(X_test,y_test), shuffle=True)"
   ]
  },
  {
   "cell_type": "code",
   "execution_count": 21,
   "metadata": {
    "colab": {
     "base_uri": "https://localhost:8080/",
     "height": 296
    },
    "id": "UhD159ORAjNC",
    "outputId": "c2a47610-10c3-42a9-f2bb-11c112757dde"
   },
   "outputs": [
    {
     "data": {
      "text/plain": [
       "<matplotlib.legend.Legend at 0x20a5d8a5a58>"
      ]
     },
     "execution_count": 21,
     "metadata": {},
     "output_type": "execute_result"
    },
    {
     "data": {
      "image/png": "[encoded data removed]",
      "text/plain": [
       "<Figure size 432x288 with 1 Axes>"
      ]
     },
     "metadata": {
      "needs_background": "light"
     },
     "output_type": "display_data"
    }
   ],
   "source": [
    "loss = c.history['loss']\n",
    "val_loss = c.history['val_loss']\n",
    "\n",
    "len(loss)\n",
    "\n",
    "train_epoch=range(1,31)\n",
    "plt.plot(train_epoch,loss, label='loss')\n",
    "plt.plot(train_epoch,val_loss, label='validation_loss')\n",
    "\n",
    "plt.xlabel('Epoch')\n",
    "plt.ylabel('Loss')\n",
    "plt.legend()\n",
    " "
   ]
  },
  {
   "cell_type": "code",
   "execution_count": 22,
   "metadata": {
    "colab": {
     "base_uri": "https://localhost:8080/",
     "height": 280
    },
    "id": "nFSMkRO1gdjO",
    "outputId": "284e9387-9c59-4c73-fb3c-ea6146607d7c"
   },
   "outputs": [
    {
     "data": {
      "image/png": "[encoded data removed]",
      "text/plain": [
       "<Figure size 432x288 with 1 Axes>"
      ]
     },
     "metadata": {
      "needs_background": "light"
     },
     "output_type": "display_data"
    }
   ],
   "source": [
    "accuracy  = c.history['accuracy']\n",
    "val_accuracy = c.history['val_accuracy']\n",
    "\n",
    "\n",
    "\n",
    "train_epoch=range(1,31)\n",
    "plt.plot(train_epoch,accuracy , label='accuracy')\n",
    "plt.plot(train_epoch,val_accuracy , label='val_accuracy')\n",
    "\n",
    "plt.xlabel('Epoch')\n",
    "plt.ylabel('accuracy')\n",
    "plt.legend()\n",
    "\n",
    "text=('best accuracy' ,max(val_accuracy),)"
   ]
  },
  {
   "cell_type": "code",
   "execution_count": 23,
   "metadata": {
    "colab": {
     "base_uri": "https://localhost:8080/"
    },
    "id": "9xpbQrRj9QYL",
    "outputId": "933c9dec-e41a-472d-ab5a-a5994794958b"
   },
   "outputs": [
    {
     "name": "stdout",
     "output_type": "stream",
     "text": [
      "Model: \"sequential\"\n",
      "_________________________________________________________________\n",
      "Layer (type)                 Output Shape              Param #   \n",
      "=================================================================\n",
      "mobilenetv2_1.00_224 (Model) (None, 3, 3, 1280)        2257984   \n",
      "_________________________________________________________________\n",
      "dropout (Dropout)            (None, 3, 3, 1280)        0         \n",
      "_________________________________________________________________\n",
      "global_average_pooling2d (Gl (None, 1280)              0         \n",
      "_________________________________________________________________\n",
      "dense (Dense)                (None, 10)                12810     \n",
      "=================================================================\n",
      "Total params: 2,270,794\n",
      "Trainable params: 12,810\n",
      "Non-trainable params: 2,257,984\n",
      "_________________________________________________________________\n"
     ]
    }
   ],
   "source": [
    "model.summary() # still need fine tune"
   ]
  },
  {
   "cell_type": "code",
   "execution_count": null,
   "metadata": {
    "colab": {
     "base_uri": "https://localhost:8080/"
    },
    "id": "O9CzIEZV9RzT",
    "outputId": "ed6cd50b-4c0c-4141-fa44-31de1f8a8a7e"
   },
   "outputs": [
    {
     "name": "stdout",
     "output_type": "stream",
     "text": [
      "Number of layers in the base model:  155\n"
     ]
    }
   ],
   "source": [
    "base_model.trainable=True\n",
    "\n",
    "print(\"Number of layers in the base model: \", len(base_model.layers))"
   ]
  },
  {
   "cell_type": "code",
   "execution_count": null,
   "metadata": {
    "id": "YZ9ixC4q9R_8"
   },
   "outputs": [],
   "source": [
    "fine_tune_layer=120\n",
    "for layer in base_model.layers[:fine_tune_layer]:\n",
    "  layer.trainable=False\n",
    "\n",
    "  #Freeze the bottom layer\n"
   ]
  },
  {
   "cell_type": "code",
   "execution_count": null,
   "metadata": {
    "colab": {
     "base_uri": "https://localhost:8080/"
    },
    "id": "_UvzDV70FEwU",
    "outputId": "e036d33c-fa5a-4d31-c46b-8c3e5cea3dff"
   },
   "outputs": [
    {
     "name": "stdout",
     "output_type": "stream",
     "text": [
      "Model: \"sequential_2\"\n",
      "_________________________________________________________________\n",
      "Layer (type)                 Output Shape              Param #   \n",
      "=================================================================\n",
      "mobilenetv2_1.00_224 (Functi (None, 3, 3, 1280)        2257984   \n",
      "_________________________________________________________________\n",
      "dropout_2 (Dropout)          (None, 3, 3, 1280)        0         \n",
      "_________________________________________________________________\n",
      "global_average_pooling2d_2 ( (None, 1280)              0         \n",
      "_________________________________________________________________\n",
      "dense_2 (Dense)              (None, 10)                12810     \n",
      "=================================================================\n",
      "Total params: 2,270,794\n",
      "Trainable params: 1,637,706\n",
      "Non-trainable params: 633,088\n",
      "_________________________________________________________________\n",
      "38\n"
     ]
    }
   ],
   "source": [
    "model.compile(loss=tf.keras.losses.BinaryCrossentropy(from_logits=True), optimizer=tf.keras.optimizers.Adam(1e-5), metrics=['accuracy'])\n",
    "epoch_fine=10\n",
    "model.summary()\n",
    "print(len(model.trainable_variables))"
   ]
  },
  {
   "cell_type": "code",
   "execution_count": null,
   "metadata": {
    "colab": {
     "base_uri": "https://localhost:8080/"
    },
    "id": "sb84YpaD9SD8",
    "outputId": "0a7b4316-2d4f-4c13-8837-25536f793852"
   },
   "outputs": [
    {
     "name": "stdout",
     "output_type": "stream",
     "text": [
      "Epoch 1/10\n",
      "35/35 [==============================] - 1s 29ms/step - loss: 0.7048 - accuracy: 0.5205 - val_loss: 0.6610 - val_accuracy: 0.9700\n",
      "Epoch 2/10\n",
      "35/35 [==============================] - 0s 10ms/step - loss: 0.6905 - accuracy: 0.6920 - val_loss: 0.6622 - val_accuracy: 0.9500\n",
      "Epoch 3/10\n",
      "35/35 [==============================] - 0s 10ms/step - loss: 0.6825 - accuracy: 0.7714 - val_loss: 0.6632 - val_accuracy: 0.9350\n",
      "Epoch 4/10\n",
      "35/35 [==============================] - 0s 10ms/step - loss: 0.6767 - accuracy: 0.8250 - val_loss: 0.6642 - val_accuracy: 0.9350\n",
      "Epoch 5/10\n",
      "35/35 [==============================] - 0s 10ms/step - loss: 0.6722 - accuracy: 0.8741 - val_loss: 0.6645 - val_accuracy: 0.9300\n",
      "Epoch 6/10\n",
      "35/35 [==============================] - 0s 9ms/step - loss: 0.6685 - accuracy: 0.9045 - val_loss: 0.6653 - val_accuracy: 0.9150\n",
      "Epoch 7/10\n",
      "35/35 [==============================] - 0s 10ms/step - loss: 0.6657 - accuracy: 0.9250 - val_loss: 0.6668 - val_accuracy: 0.8950\n",
      "Epoch 8/10\n",
      "35/35 [==============================] - 0s 10ms/step - loss: 0.6641 - accuracy: 0.9429 - val_loss: 0.6674 - val_accuracy: 0.9150\n",
      "Epoch 9/10\n",
      "35/35 [==============================] - 0s 10ms/step - loss: 0.6638 - accuracy: 0.9473 - val_loss: 0.6680 - val_accuracy: 0.9050\n",
      "Epoch 10/10\n",
      "35/35 [==============================] - 0s 9ms/step - loss: 0.6623 - accuracy: 0.9563 - val_loss: 0.6686 - val_accuracy: 0.9000\n"
     ]
    }
   ],
   "source": [
    "c_fine=model.fit(x=X_train, y=y_train,epochs=epoch_fine, batch_size=32, validation_data=(X_test,y_test), shuffle=True)"
   ]
  },
  {
   "cell_type": "code",
   "execution_count": null,
   "metadata": {
    "colab": {
     "base_uri": "https://localhost:8080/",
     "height": 279
    },
    "id": "OagKQ22b9SHH",
    "outputId": "410c976f-0b79-44a2-9519-be0545e72b2c"
   },
   "outputs": [
    {
     "data": {
      "image/png": "[encoded data removed]",
      "text/plain": [
       "<Figure size 432x288 with 1 Axes>"
      ]
     },
     "metadata": {
      "needs_background": "light",
      "tags": []
     },
     "output_type": "display_data"
    }
   ],
   "source": [
    "accuracy  = c_fine.history['accuracy']\n",
    "val_accuracy = c_fine.history['val_accuracy']\n",
    "\n",
    "\n",
    "\n",
    "train_epoch=range(1,11)\n",
    "plt.plot(train_epoch,accuracy , label='accuracy')\n",
    "plt.plot(train_epoch,val_accuracy , label='val_accuracy')\n",
    "\n",
    "plt.xlabel('Epoch')\n",
    "plt.ylabel('accuracy')\n",
    "plt.legend()\n",
    "\n",
    "text=('best accuracy' ,max(val_accuracy))"
   ]
  },
  {
   "cell_type": "code",
   "execution_count": null,
   "metadata": {
    "id": "3drHu_z_YvBV"
   },
   "outputs": [],
   "source": []
  }
 ],
 "metadata": {
  "accelerator": "GPU",
  "colab": {
   "collapsed_sections": [],
   "machine_shape": "hm",
   "name": "Copy of Kanada MINST Transfer Learning",
   "provenance": []
  },
  "kernelspec": {
   "display_name": "Python 3",
   "language": "python",
   "name": "python3"
  },
  "language_info": {
   "codemirror_mode": {
    "name": "ipython",
    "version": 3
   },
   "file_extension": ".py",
   "mimetype": "text/x-python",
   "name": "python",
   "nbconvert_exporter": "python",
   "pygments_lexer": "ipython3",
   "version": "3.6.12"
  }
 },
 "nbformat": 4,
 "nbformat_minor": 1
}
