{
 "cells": [
  {
   "cell_type": "code",
   "execution_count": 1,
   "id": "5ec4b97d",
   "metadata": {},
   "outputs": [],
   "source": [
    "import pandas as pd\n",
    "import matplotlib.pyplot as plt\n",
    "import numpy as np\n",
    "import matplotlib.pyplot as plt\n",
    "from shapely.geometry import Polygon, box\n",
    "from shapely.affinity import rotate\n",
    "import numpy as np\n",
    "import os\n",
    "from shapely.geometry import Point\n"
   ]
  },
  {
   "cell_type": "code",
   "execution_count": 2,
   "id": "64d0ba56",
   "metadata": {},
   "outputs": [],
   "source": [
    "data=pd.read_csv('measurementRectangles.csv')\n",
    "data=data[['brand',\n",
    " 'style',\n",
    " 'menWomen',\n",
    " 'name',\n",
    " 'fabric',\n",
    " 'price',\n",
    " 'maxHeightFront',\n",
    " 'minHeightFront',\n",
    " 'rivetHeightFront',\n",
    " 'maxWidthFront',\n",
    " 'minWidthFront',\n",
    " 'maxHeightBack',\n",
    " 'minHeightBack',\n",
    " 'maxWidthBack',\n",
    " 'minWidthBack',\n",
    " 'cutout',\n",
    " 'waistSize',\n",
    " 'updatedStyle',\n",
    " 'group',\n",
    " 'priceGroup',\n",
    "#  'pocketArea',\n",
    "#  'rectanglePhone/area',\n",
    "#  'rectanglePhone/cx',\n",
    "#  'rectanglePhone/cy',\n",
    "#  'rectanglePhone/width',\n",
    "#  'rectanglePhone/height',\n",
    "#  'rectanglePhone/angle',\n",
    "#  'rectanglePhone/points/0/0',\n",
    "#  'rectanglePhone/points/0/1',\n",
    "#  'rectanglePhone/points/1/0',\n",
    "#  'rectanglePhone/points/1/1',\n",
    "#  'rectanglePhone/points/2/0',\n",
    "#  'rectanglePhone/points/2/1',\n",
    "#  'rectanglePhone/points/3/0',\n",
    "#  'rectanglePhone/points/3/1',\n",
    "#  'rectanglePhone/points/4/0',\n",
    "#  'rectanglePhone/points/4/1',\n",
    "#  'rectanglePhone/heightCM',\n",
    "#  'rectanglePhone/widthCM',\n",
    "          ]]"
   ]
  },
  {
   "cell_type": "code",
   "execution_count": 3,
   "id": "8bf30ccb",
   "metadata": {},
   "outputs": [],
   "source": [
    "# create points from measurements. \n",
    "data['front_x1']=0\n",
    "data['front_y1']=0\n",
    "\n",
    "data['front_x2']=0\n",
    "data['front_y2']=data.maxHeightFront+data.front_y1\n",
    "\n",
    "data['front_x3']=data.front_x2+data.maxWidthFront-data.minWidthFront\n",
    "data['front_y3']=data.front_y2\n",
    "\n",
    "data['front_x4']=data.front_x3+data.minWidthFront\n",
    "data['front_y4']=data.front_y2-data.rivetHeightFront\n",
    "\n",
    "data['front_x5']=data.front_x4\n",
    "data['front_y5']=data.front_y2-data.minHeightFront\n",
    "\n",
    "#------------------------------------\n",
    "data['back_x1']=0\n",
    "data['back_y1']=0\n",
    "\n",
    "data['back_x2']=data.back_x1- ((data.maxWidthBack-data.minWidthBack)/2)\n",
    "data['back_y2']=data.minHeightBack+data.back_y1\n",
    "\n",
    "data['back_x3']=data.back_x2+data.maxWidthBack\n",
    "data['back_y3']=data.back_y2\n",
    "\n",
    "data['back_x4']=data.back_x3- ((data.maxWidthBack-data.minWidthBack)/2)\n",
    "data['back_y4']=data.back_y1\n",
    "\n",
    "data['back_x5']=data.back_x1+data.minWidthBack/2\n",
    "data['back_y5']=data.back_y1+data.minHeightBack-data.maxHeightBack\n"
   ]
  },
  {
   "cell_type": "markdown",
   "id": "8f41389c",
   "metadata": {},
   "source": [
    "# test and plot "
   ]
  },
  {
   "cell_type": "code",
   "execution_count": 6,
   "id": "8e06555b",
   "metadata": {},
   "outputs": [
    {
     "data": {
      "text/plain": [
       "[<matplotlib.lines.Line2D at 0x7f97a8f16580>]"
      ]
     },
     "execution_count": 6,
     "metadata": {},
     "output_type": "execute_result"
    },
    {
     "data": {
      "image/png": "[encoded data removed]",
      "text/plain": [
       "<Figure size 432x288 with 1 Axes>"
      ]
     },
     "metadata": {
      "needs_background": "light"
     },
     "output_type": "display_data"
    }
   ],
   "source": [
    "# Define the dimensions of the pocket as vertices of a polygon\n",
    "polygon_vertices = np.array([[data['front_x1'][5], data['front_y1'][5]], \n",
    "                             [data['front_x2'][5], data['front_y2'][5]], \n",
    "                             [data['front_x3'][5], data['front_y3'][5]], \n",
    "                             [data['front_x4'][5], data['front_y4'][5]],\n",
    "                            [data['front_x5'][5], data['front_y5'][5]],\n",
    "                             [data['front_x1'][5], data['front_y1'][5]],\n",
    "                            ])\n",
    "\n",
    "# Extract x and y coordinates of the vertices\n",
    "x, y = polygon_vertices[:, 0], polygon_vertices[:, 1]\n",
    "plt.plot(x, y, marker='o', linestyle='-', color='b', label='Pocket')\n",
    "\n"
   ]
  },
  {
   "cell_type": "code",
   "execution_count": 7,
   "id": "ca6f1a6e",
   "metadata": {},
   "outputs": [
    {
     "data": {
      "text/plain": [
       "[<matplotlib.lines.Line2D at 0x7f976836a550>]"
      ]
     },
     "execution_count": 7,
     "metadata": {},
     "output_type": "execute_result"
    },
    {
     "data": {
      "image/png": "[encoded data removed]",
      "text/plain": [
       "<Figure size 432x288 with 1 Axes>"
      ]
     },
     "metadata": {
      "needs_background": "light"
     },
     "output_type": "display_data"
    }
   ],
   "source": [
    "# Define the dimensions of the pocket as vertices of a polygon\n",
    "polygon_vertices = np.array([[data['back_x1'][0], data['back_y1'][0]], \n",
    "                             [data['back_x2'][0], data['back_y2'][0]], \n",
    "                             [data['back_x3'][0], data['back_y3'][0]], \n",
    "                             [data['back_x4'][0], data['back_y4'][0]],\n",
    "                            [data['back_x5'][0], data['back_y5'][0]],\n",
    "                              [data['back_x1'][0], data['back_y1'][0]],\n",
    "                            ])\n",
    "\n",
    "# Extract x and y coordinates of the vertices\n",
    "x, y = polygon_vertices[:, 0], polygon_vertices[:, 1]\n",
    "plt.plot(x, y, marker='o', linestyle='-', color='b', label='Pocket')\n"
   ]
  },
  {
   "cell_type": "markdown",
   "id": "c3dd1a6b",
   "metadata": {},
   "source": [
    "# add curve for bottom and up. assume 30 degree\n",
    "# Note: I only used bottome here. upper curve not used for now. \n"
   ]
  },
  {
   "cell_type": "code",
   "execution_count": 25,
   "id": "56fe3ef2",
   "metadata": {},
   "outputs": [
    {
     "data": {
      "text/plain": [
       "[<matplotlib.lines.Line2D at 0x7f979902a940>]"
      ]
     },
     "execution_count": 25,
     "metadata": {},
     "output_type": "execute_result"
    },
    {
     "data": {
      "image/png": "[encoded data removed]",
      "text/plain": [
       "<Figure size 432x288 with 1 Axes>"
      ]
     },
     "metadata": {
      "needs_background": "light"
     },
     "output_type": "display_data"
    }
   ],
   "source": [
    "# add only 5 points for curve. not 10. too much calculation\n",
    "\n",
    "def create_smooth_curve(point1, point2, angle_degrees, num_points=5):\n",
    "\n",
    "    angle_radians = np.deg2rad(angle_degrees)\n",
    "    t = np.linspace(0, 1, num_points)\n",
    "    x_curve = (1 - t) * point1[0] + t * point2[0]\n",
    "    y_curve = (1 - t) * point1[1] + t * point2[1] + (t * (1 - t) * np.tan(angle_radians) * (point2[0] - point1[0]))\n",
    "    return x_curve, y_curve\n",
    "\n",
    "# Example usage:\n",
    "point1 = (data['front_x1'][5], data['front_y1'][5])\n",
    "point2 = (data['front_x5'][5], data['front_y5'][5])\n",
    "angle_degrees = -30\n",
    "\n",
    "x_curve, y_curve = create_smooth_curve(point1, point2, angle_degrees)\n",
    "plt.plot(x_curve, y_curve, marker='o', linestyle='-', color='b', label='Smooth Curve')\n",
    "\n"
   ]
  },
  {
   "cell_type": "code",
   "execution_count": 26,
   "id": "c461c24b",
   "metadata": {},
   "outputs": [],
   "source": [
    "# create front pocket bottom curve \n",
    "data['front_bottom_curve_x'] = data.apply(lambda row: create_smooth_curve((row['front_x1'], row['front_y1']),\n",
    "                                                                (row['front_x5'], row['front_y5']),\n",
    "                                                                -30)[0],\n",
    "                                  axis=1)\n",
    "data['front_bottom_curve_y'] = data.apply(lambda row: create_smooth_curve((row['front_x1'], row['front_y1']),\n",
    "                                                                (row['front_x5'], row['front_y5']),\n",
    "                                                                -30)[1],\n",
    "                                  axis=1)\n"
   ]
  },
  {
   "cell_type": "code",
   "execution_count": 27,
   "id": "cb206863",
   "metadata": {},
   "outputs": [],
   "source": [
    "# create front pocket top curve, not used in the future. \n",
    "\n",
    "data['front_top_curve_x'] = data.apply(lambda row: create_smooth_curve((row['front_x3'], row['front_y3']),\n",
    "                                                                (row['front_x4'], row['front_y4']),\n",
    "                                                                -30)[0],\n",
    "                                  axis=1)\n",
    "data['front_top_curve_y'] = data.apply(lambda row: create_smooth_curve((row['front_x3'], row['front_y3']),\n",
    "                                                                (row['front_x4'], row['front_y4']),\n",
    "                                                                -30)[1],\n",
    "                                  axis=1)\n"
   ]
  },
  {
   "cell_type": "markdown",
   "id": "aaadd0be",
   "metadata": {},
   "source": [
    "# zip data x y points and curves"
   ]
  },
  {
   "cell_type": "code",
   "execution_count": 30,
   "id": "1c130752",
   "metadata": {},
   "outputs": [],
   "source": [
    "# Custom function to create a list with 'a' as the first element and 'b' as the rest\n",
    "def create_list(row):\n",
    "    b_array = row['front_bottom_curve_x']\n",
    "\n",
    "        # Remove the first and last elements, then reverse\n",
    "    processed_b = b_array[1:-1][::-1]\n",
    "\n",
    "\n",
    "    return np.concatenate(([row['front_x1']],[row['front_x2']],[row['front_x3']],\n",
    "        [row['front_x4']], [row['front_x5']],processed_b))\n",
    "  # Convert to list\n",
    "    \n",
    "    \n",
    "def create_list2(row):\n",
    "    b_array = row['front_bottom_curve_y']\n",
    "\n",
    "        # Remove the first and last elements, then reverse\n",
    "    processed_b = b_array[1:-1][::-1]\n",
    "\n",
    "\n",
    "    return np.concatenate(([row['front_y1']],[row['front_y2']],[row['front_y3']],\n",
    "        [row['front_y4']], [row['front_y5']],processed_b))\n",
    "  # Convert to list\n",
    "\n",
    "# Create a new column 'c' using apply and the custom function\n",
    "data['front_x'] = data.apply(create_list, axis=1)\n",
    "data['front_y'] = data.apply(create_list2, axis=1)\n",
    "\n"
   ]
  },
  {
   "cell_type": "code",
   "execution_count": 33,
   "id": "552a757d",
   "metadata": {},
   "outputs": [
    {
     "data": {
      "image/png": "[encoded data removed]",
      "text/plain": [
       "<Figure size 432x288 with 1 Axes>"
      ]
     },
     "metadata": {
      "needs_background": "light"
     },
     "output_type": "display_data"
    }
   ],
   "source": [
    "plt.plot(data['front_bottom_curve_x'][5], data['front_bottom_curve_y'][5], marker='o', linestyle='-', color='b', label='Smooth Curve')\n",
    "\n",
    "plt.plot(data['front_x'][5], data['front_y'][5], marker='o', linestyle='-', color='r', label='Smooth Curve')\n",
    "def zip_arrays1(row):\n",
    "    return list(zip(row['front_bottom_curve_x'], row['front_bottom_curve_y']))\n",
    "\n",
    "def zip_arrays2(row):\n",
    "    return list(zip(row['front_x'], row['front_y']))\n",
    "\n",
    "data['front_coordinate_plot'] = data.apply(zip_arrays2, axis=1)\n",
    "data['front_coordinate_generate'] = data.apply(zip_arrays1, axis=1)\n"
   ]
  },
  {
   "cell_type": "code",
   "execution_count": 34,
   "id": "24e2becd",
   "metadata": {},
   "outputs": [
    {
     "data": {
      "text/plain": [
       "[<matplotlib.lines.Line2D at 0x7f9788ee5340>]"
      ]
     },
     "execution_count": 34,
     "metadata": {},
     "output_type": "execute_result"
    },
    {
     "data": {
      "image/png": "[encoded data removed]",
      "text/plain": [
       "<Figure size 432x288 with 1 Axes>"
      ]
     },
     "metadata": {
      "needs_background": "light"
     },
     "output_type": "display_data"
    }
   ],
   "source": [
    "    \n",
    "def create_list3(row):\n",
    "    return np.concatenate(([row['back_x1']],[row['back_x2']],[row['back_x3']],\n",
    "        [row['back_x4']], [row['back_x5']],[row['back_x1']]))\n",
    "def create_list4(row):\n",
    "    return np.concatenate(([row['back_y1']],[row['back_y2']],[row['back_y3']],\n",
    "        [row['back_y4']], [row['back_y5']],[row['back_y1']]))\n",
    "data['back_x'] = data.apply(create_list3, axis=1)\n",
    "data['back_y'] = data.apply(create_list4, axis=1)\n",
    "plt.plot(data['back_x'][5], data['back_y'][5], marker='o', linestyle='-', color='b', label='Smooth Curve')\n"
   ]
  },
  {
   "cell_type": "markdown",
   "id": "9a8adc70",
   "metadata": {},
   "source": [
    "# find largest rectange with aspect ratio of 19.5:9 = 2.17\n",
    "#  will rotate the phone/pocket if needed\n"
   ]
  },
  {
   "cell_type": "code",
   "execution_count": 35,
   "id": "832502bf",
   "metadata": {},
   "outputs": [],
   "source": [
    "coordinates = list(zip(data['front_x'][5], data['front_y'][5]))\n",
    "coordinates\n",
    "\n",
    "\n",
    "def zip_arrays1(row):\n",
    "    return list(zip(row['front_x'], row['front_y']))\n",
    "\n",
    "def zip_arrays2(row):\n",
    "    return list(zip(row['back_x'], row['back_y']))\n",
    "\n",
    "data['front_coordinate'] = data.apply(zip_arrays1, axis=1)\n",
    "data['back_coordinate'] = data.apply(zip_arrays2, axis=1)\n"
   ]
  },
  {
   "cell_type": "code",
   "execution_count": 36,
   "id": "0115496b",
   "metadata": {},
   "outputs": [
    {
     "data": {
      "text/plain": [
       "[(0.0, 0.0),\n",
       " (0.0, 21.5),\n",
       " (4.0, 21.5),\n",
       " (16.5, 14.5),\n",
       " (16.5, -1.5),\n",
       " (12.375, -2.911177395305404),\n",
       " (8.25, -3.1315698604072058),\n",
       " (4.125, -2.161177395305404)]"
      ]
     },
     "execution_count": 36,
     "metadata": {},
     "output_type": "execute_result"
    }
   ],
   "source": [
    "data['front_coordinate'][0]"
   ]
  },
  {
   "cell_type": "code",
   "execution_count": 62,
   "id": "3359cf59",
   "metadata": {},
   "outputs": [
    {
     "data": {
      "image/png": "[encoded data removed]",
      "text/plain": [
       "<Figure size 432x432 with 1 Axes>"
      ]
     },
     "metadata": {
      "needs_background": "light"
     },
     "output_type": "display_data"
    }
   ],
   "source": [
    "\n",
    "\n",
    "def find_largest_rectangle(polygon, aspect_ratio):\n",
    "    minx, miny, maxx, maxy = polygon.bounds\n",
    "    best_area = 0\n",
    "    best_rect = None\n",
    "\n",
    "    # Iterate over a grid within the polygon bounds\n",
    "    for x in np.linspace(minx, maxx, 100): ##### --------------------change this 100 to 50 to faster calculate\n",
    "        for y in np.linspace(miny, maxy, 100):##### --------------------change this 100 to 50 to faster calculate\n",
    "            for dx in np.linspace(0, maxx - x, 50):\n",
    "                dy = dx / aspect_ratio\n",
    "                rect = box(x, y, x + dx, y + dy)\n",
    "                if polygon.contains(rect) and rect.area > best_area:\n",
    "                    best_area = rect.area\n",
    "                    best_rect = rect\n",
    "                    best_len = best_rect.bounds[2] - best_rect.bounds[0]\n",
    "                    best_wid = best_rect.bounds[3] - best_rect.bounds[1]\n",
    "                    aspect_ratio=max(best_len,best_wid)/min(best_wid,best_len)\n",
    "    return best_rect,aspect_ratio\n",
    "\n",
    "def rotate_polygon_and_find_largest_rectangle(points, aspect_ratio):\n",
    "    original_polygon = Polygon(points)\n",
    "    centroid = original_polygon.centroid.coords[0]\n",
    "    best_area = 0\n",
    "    best_rect = None\n",
    "    best_angle = 0\n",
    "\n",
    "    for angle in range(0, 180, 20):##### ---------change this 20 to 30 to faster calculate, 20 degree step\n",
    "        rotated_polygon = rotate(original_polygon, angle, origin=centroid)\n",
    "        rect,aspect_ratio = find_largest_rectangle(rotated_polygon, aspect_ratio)\n",
    "        if rect and rect.area > best_area and aspect_ratio>2.1 and aspect_ratio< 2.2:\n",
    "            best_area = rect.area\n",
    "            best_rect = rotate(rect, -angle, origin=centroid)\n",
    "            best_angle = angle\n",
    "            best_length2 = best_rect.bounds[2] - best_rect.bounds[0]\n",
    "            best_width2 = best_rect.bounds[3] - best_rect.bounds[1]\n",
    "\n",
    "    return best_rect, best_angle\n",
    "\n",
    "# Example polygon points\n",
    "#points = [(2, 3), (5, 11), (12, 8), (9, 5), (5, 6)]\n",
    "points=data['front_coordinate'][1]\n",
    "# Find the largest rectangle with aspect ratio 2 after rotating the polygon\n",
    "largest_rectangle, rotation_degree = rotate_polygon_and_find_largest_rectangle(points, 2.16)\n",
    "\n",
    "# Plot the original polygon and the largest rectangle\n",
    "polygon = Polygon(points)\n",
    "x, y = polygon.exterior.xy\n",
    "plt.figure(figsize=(6, 6))\n",
    "plt.plot(x, y, label=\"Original Polygon\")\n",
    "\n",
    "if largest_rectangle:\n",
    "    x, y = largest_rectangle.exterior.xy\n",
    "    plt.plot(x, y, label=f\"Largest Rectangle (Rotated back by {-rotation_degree} degrees)\")\n",
    "\n",
    "plt.xlabel('X')\n",
    "plt.ylabel('Y')\n",
    "plt.title('Polygon and Largest Rotatable Rectangle')\n",
    "plt.legend()\n",
    "plt.show()\n"
   ]
  },
  {
   "cell_type": "code",
   "execution_count": null,
   "id": "9ec15a8f",
   "metadata": {},
   "outputs": [],
   "source": []
  },
  {
   "cell_type": "code",
   "execution_count": 63,
   "id": "49839b3c",
   "metadata": {},
   "outputs": [
    {
     "name": "stdout",
     "output_type": "stream",
     "text": [
      "154.70517155841534\n",
      "[(3.3654391610448178, -1.7811175615975454), (11.699890192607594, -0.31152897533952917), (8.525578846290287, 17.690885252836022), (0.1911278147275104, 16.221296666578006), (3.3654391610448178, -1.7811175615975454)]\n"
     ]
    },
    {
     "data": {
      "image/svg+xml": [
       "<svg xmlns=\"http://www.w3.org/2000/svg\" xmlns:xlink=\"http://www.w3.org/1999/xlink\" width=\"100.0\" height=\"100.0\" viewBox=\"-0.5877522978498323 -2.559997674174888 13.066522603034768 21.029763039588254\" preserveAspectRatio=\"xMinYMin meet\"><g transform=\"matrix(1,0,0,-1,0,15.909767691238478)\"><path fill-rule=\"evenodd\" fill=\"#66cc99\" stroke=\"#555555\" stroke-width=\"0.42059526079176507\" opacity=\"0.6\" d=\"M 3.3654391610448178,-1.7811175615975454 L 11.699890192607594,-0.31152897533952917 L 8.525578846290287,17.690885252836022 L 0.1911278147275104,16.221296666578006 L 3.3654391610448178,-1.7811175615975454 z\" /></g></svg>"
      ],
      "text/plain": [
       "<shapely.geometry.polygon.Polygon at 0x7f97a8f84700>"
      ]
     },
     "execution_count": 63,
     "metadata": {},
     "output_type": "execute_result"
    }
   ],
   "source": [
    "# this is the rectangel of in image above. some commands to take parameter out. \n",
    "print(largest_rectangle.area)\n",
    "print(list(largest_rectangle.exterior.coords))\n",
    "largest_rectangle \n"
   ]
  },
  {
   "cell_type": "markdown",
   "id": "cfbc1aaa",
   "metadata": {},
   "source": [
    "# Susan, run 3 -5 instead of whole data below\n",
    "will take forever to run all 80 pants. "
   ]
  },
  {
   "cell_type": "code",
   "execution_count": 64,
   "id": "e2fe39fd",
   "metadata": {},
   "outputs": [],
   "source": [
    "data=data[0:3]# susan, run olny!!!!!!!\n",
    "\n",
    "\n",
    "data[['polygon_front','poly_angle_front']]=data['front_coordinate'].apply(lambda x:pd.Series(rotate_polygon_and_find_largest_rectangle(x, 2.16)) )"
   ]
  },
  {
   "cell_type": "code",
   "execution_count": 65,
   "id": "8d70b6e5",
   "metadata": {},
   "outputs": [],
   "source": [
    "data2=data.copy()\n",
    "# back up data before lost\n",
    "data.to_csv('all_data_rerun_qc.csv')"
   ]
  },
  {
   "cell_type": "code",
   "execution_count": 50,
   "id": "d5b5c088",
   "metadata": {},
   "outputs": [],
   "source": [
    "\n",
    "def calculate_distances(polygon):\n",
    "    distances = []\n",
    "    for i in range(len(polygon) - 1):\n",
    "        point1 = polygon[i]\n",
    "        point2 = polygon[i + 1]\n",
    "        distance = np.sqrt((point2[0] - point1[0])**2 + (point2[1] - point1[1])**2)\n",
    "        distances.append(distance)\n",
    "    return max(distances), min(distances)"
   ]
  },
  {
   "cell_type": "code",
   "execution_count": 68,
   "id": "fbb7e2eb",
   "metadata": {},
   "outputs": [],
   "source": [
    "# calculate the distance of edge of rect and diagnoal distance \n",
    "data['polygon_front_area']= data['polygon_front'].apply(lambda rect: rect.area)\n",
    "data['polygon_front_coord']= data['polygon_front'].apply(lambda rect: rect.exterior.coords)\n",
    "data[['polygon_front_len','polygon_front_wid']]= data['polygon_front'].apply(lambda rect: \n",
    "                                                             pd.Series(calculate_distances(list(rect.exterior.coords))))\n",
    "\n",
    "data['polygon_front_max_diagonal']=round(np.sqrt(data.polygon_front_len**2+data.polygon_front_wid**2),2)\n",
    "data['polygon_front_max_diagonal_inch']=data['polygon_front_max_diagonal']/2.54\n"
   ]
  },
  {
   "cell_type": "code",
   "execution_count": 70,
   "id": "6e5d6168",
   "metadata": {},
   "outputs": [],
   "source": [
    "data.to_csv('all_data_rerun_qc.csv')"
   ]
  },
  {
   "cell_type": "markdown",
   "id": "f5c16f99",
   "metadata": {},
   "source": [
    "# searching for back pocket"
   ]
  },
  {
   "cell_type": "code",
   "execution_count": 71,
   "id": "e41a7805",
   "metadata": {},
   "outputs": [
    {
     "data": {
      "text/plain": [
       "Index(['brand', 'style', 'menWomen', 'name', 'fabric', 'price',\n",
       "       'maxHeightFront', 'minHeightFront', 'rivetHeightFront', 'maxWidthFront',\n",
       "       'minWidthFront', 'maxHeightBack', 'minHeightBack', 'maxWidthBack',\n",
       "       'minWidthBack', 'cutout', 'waistSize', 'updatedStyle', 'group',\n",
       "       'priceGroup', 'front_x1', 'front_y1', 'front_x2', 'front_y2',\n",
       "       'front_x3', 'front_y3', 'front_x4', 'front_y4', 'front_x5', 'front_y5',\n",
       "       'back_x1', 'back_y1', 'back_x2', 'back_y2', 'back_x3', 'back_y3',\n",
       "       'back_x4', 'back_y4', 'back_x5', 'back_y5', 'front_bottom_curve_x',\n",
       "       'front_bottom_curve_y', 'front_top_curve_x', 'front_top_curve_y',\n",
       "       'front_x', 'front_y', 'front_coordinate_generate',\n",
       "       'front_coordinate_plot', 'back_x', 'back_y', 'front_coordinate',\n",
       "       'back_coordinate', 'polygon_front', 'poly_angle_front',\n",
       "       'polygon_front_area', 'polygon_front_coord', 'polygon_front_len',\n",
       "       'polygon_front_wid', 'polygon_front_max_diagonal',\n",
       "       'polygon_front_max_diagonal_inch'],\n",
       "      dtype='object')"
      ]
     },
     "execution_count": 71,
     "metadata": {},
     "output_type": "execute_result"
    }
   ],
   "source": [
    "data.columns"
   ]
  },
  {
   "cell_type": "code",
   "execution_count": 74,
   "id": "30fdff17",
   "metadata": {},
   "outputs": [],
   "source": [
    "\n",
    "    \n",
    "data['back_coordinate'] = data.apply(zip_arrays2, axis=1)\n"
   ]
  },
  {
   "cell_type": "code",
   "execution_count": 76,
   "id": "f9f7317c",
   "metadata": {},
   "outputs": [
    {
     "data": {
      "text/plain": [
       "[(0.0, 0.0), (-0.75, 13.0), (13.25, 13.0), (12.5, 0.0), (6.25, -3.0)]"
      ]
     },
     "execution_count": 76,
     "metadata": {},
     "output_type": "execute_result"
    }
   ],
   "source": [
    "data.back_coordinate[0]"
   ]
  },
  {
   "cell_type": "code",
   "execution_count": 77,
   "id": "fe5d3e43",
   "metadata": {},
   "outputs": [],
   "source": [
    "\n",
    "# only need search 2 angle for back pocket. 0 or 90 degree\n",
    "def polygon_and_find_largest_rectangle_back(points, aspect_ratio):\n",
    "    original_polygon = Polygon(points)\n",
    "    centroid = original_polygon.centroid.coords[0]\n",
    "    best_area = 0\n",
    "    best_rect = None\n",
    "    best_angle = 0\n",
    "\n",
    "    for angle in [0,90]:\n",
    "        rotated_polygon = rotate(original_polygon, angle, origin=centroid)\n",
    "        rect,aspect_ratio = find_largest_rectangle(rotated_polygon, aspect_ratio)\n",
    "        if rect and rect.area > best_area and aspect_ratio>2.10 and aspect_ratio< 2.2:\n",
    "            best_area = rect.area\n",
    "            best_rect = rotate(rect, -angle, origin=centroid)\n",
    "            best_angle = angle\n",
    "            best_length2 = best_rect.bounds[2] - best_rect.bounds[0]\n",
    "            best_width2 = best_rect.bounds[3] - best_rect.bounds[1]\n",
    "\n",
    "    return best_rect"
   ]
  },
  {
   "cell_type": "code",
   "execution_count": 79,
   "id": "c2cf6767",
   "metadata": {},
   "outputs": [
    {
     "data": {
      "image/png": "[encoded data removed]",
      "text/plain": [
       "<Figure size 432x288 with 1 Axes>"
      ]
     },
     "metadata": {
      "needs_background": "light"
     },
     "output_type": "display_data"
    }
   ],
   "source": [
    "points=data['back_coordinate'][0]\n",
    "# Find the largest rectangle with aspect ratio 2 after rotating the polygon\n",
    "largest_rectangle = polygon_and_find_largest_rectangle_back(points, 2.16)\n",
    "\n",
    "# Plot the original polygon and the largest rectangle\n",
    "polygon = Polygon(points)\n",
    "x, y = polygon.exterior.xy\n",
    "plt.figure()\n",
    "plt.plot(x, y, label=\"Original Polygon\")\n",
    "\n",
    "if largest_rectangle:\n",
    "    x, y = largest_rectangle.exterior.xy\n",
    "    plt.plot(x, y, label=f\"Largest Rectangle\")\n",
    "\n",
    "plt.xlabel('X')\n",
    "plt.ylabel('Y')\n",
    "plt.title('Polygon and Largest Rotatable Rectangle')\n",
    "plt.legend()\n",
    "plt.show()"
   ]
  },
  {
   "cell_type": "code",
   "execution_count": 81,
   "id": "c1e4fb2f",
   "metadata": {},
   "outputs": [],
   "source": [
    "data['polygon_back']=data['back_coordinate'].apply(lambda x:pd.Series(polygon_and_find_largest_rectangle_back(x, 2.16)) )"
   ]
  },
  {
   "cell_type": "code",
   "execution_count": 82,
   "id": "2d8dac5e",
   "metadata": {},
   "outputs": [],
   "source": [
    "\n",
    "data['polygon_back_area']= data['polygon_back'].apply(lambda rect: rect.area)\n",
    "data['polygon_back_coord']= data['polygon_back'].apply(lambda rect: rect.exterior.coords)\n",
    "data[['polygon_back_len','polygon_back_wid']]= data['polygon_back'].apply(lambda rect: \n",
    "                                                             pd.Series(calculate_distances(list(rect.exterior.coords))))\n",
    "\n",
    "data['polygon_back_max_diagonal']=round(np.sqrt(data.polygon_back_len**2+data.polygon_back_wid**2),2)\n",
    "data['polygon_back_max_diagonal_inch']=data['polygon_back_max_diagonal']/2.54"
   ]
  },
  {
   "cell_type": "code",
   "execution_count": 86,
   "id": "4bf5e171",
   "metadata": {},
   "outputs": [],
   "source": [
    "\n",
    "\n",
    "data.to_csv('all_data_rerrun_qc.csv')\n"
   ]
  },
  {
   "cell_type": "code",
   "execution_count": 85,
   "id": "b1b40f5b",
   "metadata": {},
   "outputs": [
    {
     "data": {
      "text/plain": [
       "Index(['brand', 'style', 'menWomen', 'name', 'fabric', 'price',\n",
       "       'maxHeightFront', 'minHeightFront', 'rivetHeightFront', 'maxWidthFront',\n",
       "       'minWidthFront', 'maxHeightBack', 'minHeightBack', 'maxWidthBack',\n",
       "       'minWidthBack', 'cutout', 'waistSize', 'updatedStyle', 'group',\n",
       "       'priceGroup', 'front_x1', 'front_y1', 'front_x2', 'front_y2',\n",
       "       'front_x3', 'front_y3', 'front_x4', 'front_y4', 'front_x5', 'front_y5',\n",
       "       'back_x1', 'back_y1', 'back_x2', 'back_y2', 'back_x3', 'back_y3',\n",
       "       'back_x4', 'back_y4', 'back_x5', 'back_y5', 'front_bottom_curve_x',\n",
       "       'front_bottom_curve_y', 'front_top_curve_x', 'front_top_curve_y',\n",
       "       'front_x', 'front_y', 'front_coordinate_generate',\n",
       "       'front_coordinate_plot', 'back_x', 'back_y', 'front_coordinate',\n",
       "       'back_coordinate', 'polygon_front', 'poly_angle_front',\n",
       "       'polygon_front_area', 'polygon_front_coord', 'polygon_front_len',\n",
       "       'polygon_front_wid', 'polygon_front_max_diagonal',\n",
       "       'polygon_front_max_diagonal_inch', 'polygon_back', 'polygon_back_area',\n",
       "       'polygon_back_coord', 'polygon_back_len', 'polygon_back_wid',\n",
       "       'polygon_back_max_diagonal', 'polygon_back_max_diagonal_inch'],\n",
       "      dtype='object')"
      ]
     },
     "execution_count": 85,
     "metadata": {},
     "output_type": "execute_result"
    }
   ],
   "source": [
    "data.columns"
   ]
  },
  {
   "cell_type": "code",
   "execution_count": null,
   "id": "4914e443",
   "metadata": {},
   "outputs": [],
   "source": []
  }
 ],
 "metadata": {
  "kernelspec": {
   "display_name": "Python 3",
   "language": "python",
   "name": "python3"
  },
  "language_info": {
   "codemirror_mode": {
    "name": "ipython",
    "version": 3
   },
   "file_extension": ".py",
   "mimetype": "text/x-python",
   "name": "python",
   "nbconvert_exporter": "python",
   "pygments_lexer": "ipython3",
   "version": "3.8.8"
  }
 },
 "nbformat": 4,
 "nbformat_minor": 5
}
